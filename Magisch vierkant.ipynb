{
 "cells": [
  {
   "cell_type": "markdown",
   "metadata": {},
   "source": [
    "Er van uitgaande van een magisch vierkant dat er als volgd uitziet\n",
    "\\begin{array}{|c|c|c|} \\hline 5 & ~~ & ~~ \\\\ \\hline ~~ & ~~ & 4 \\\\ \\hline ~~ & ~~ & 6 \\\\ \\hline \\end{array}"
   ]
  },
  {
   "cell_type": "markdown",
   "metadata": {},
   "source": [
    "Deze kan worden omgescheven tot het volgende vierkant.\n",
    "\\begin{array}{|c|c|c|} \\hline X1 & X2 & X3 \\\\ \\hline X4 & X5 & X6 \\\\ \\hline X7 & X8 & X9 \\\\ \\hline \\end{array}"
   ]
  },
  {
   "cell_type": "markdown",
   "metadata": {},
   "source": [
    "Hier uit kunnen de volgende formules worden herleid \n",
    "\n",
    "X2 + X3 -N      = -5 <br>\n",
    "X4 + X5 -N      = -4 <br>\n",
    "X7 + X8 -N      = -6  <br>\n",
    "<br>\n",
    "X4 + X7 -N      = -5<br>\n",
    "X2 + X5 + X8 -N = 0<br>\n",
    "X3 -N           = -10<br>\n",
    "<br>\n",
    "X5 -N      = -11<br>\n",
    "X3 + X5 + X7 -N = 0<br>\n"
   ]
  },
  {
   "cell_type": "markdown",
   "metadata": {},
   "source": [
    "Als je de formules verkwerkt in een tabel kom je op het volgende uit\n"
   ]
  },
  {
   "cell_type": "markdown",
   "metadata": {},
   "source": [
    "\n",
    "\\begin{array}{c||c|c|c|c|c|c|c|c|c|c|} \n",
    "\\hline Regel & x2& x3& x4& x5& x6& x7& x8& x9&  A\t  \\\\\n",
    "    \\hline 1 &1 & 1 & 0 & 0 & 0 & 0 & 0 & 0& -1 & -5 \\\\\n",
    "    \\hline 2 &0 & 0 & 1 & 1 & 0 & 0 & 0 & 0& -1 & -4 \\\\\n",
    "    \\hline 3 &0 & 0 & 0 & 0 & 0 & 1 & 1 & 0& -1 & -5 \\\\\n",
    "    \\hline 4 &0 & 0 & 1 & 0 & 0 & 1 & 0 & 0& -1 & -5 \\\\\n",
    "    \\hline 5 &1 & 0 & 0 & 1 & 0 & 0 & 1 & 0& -1 & -0 \\\\\n",
    "    \\hline 6 &0 & 0 & 0 & 0 & 1 & 0 & 0 & 0& -1 & -10 \\\\\n",
    "    \\hline 7 &0 & 0 & 0 & 1 & 0 & 0 & 0 & 1& -1 & -5 \\\\\n",
    "    \\hline 8 &0 & 1 & 0 & 1 & 0 & 1 & 0 & 0& -1 & 0 \\\\ \n",
    "    \\hline\\end{array}\n",
    "    "
   ]
  },
  {
   "cell_type": "markdown",
   "metadata": {},
   "source": [
    "regel 2 - regel 8 -regel 4 <br>\n",
    "regel 8 + regel 2<br>\n",
    "\n",
    "\n",
    "\n",
    "\\begin{array}{c||c|c|c|c|c|c|c|c|c|c|} \n",
    "\\hline Regel & x2& x3& x4& x5& x6& x7& x8& x9&  A\t  \\\\\n",
    "    \\hline 1 &1 & 1 & 0 & 0 & 0 & 0 & 0 & 0& -1 & -5 \\\\\n",
    "    \\hline 2 &0 & -1 & 0 &0 & 0 & -1 & 0& 0& - & -9 \\\\\n",
    "    \\hline 3 &0 & 0 & 0 & 0 & 0 & 1 & 1 & 0& -1 & -5 \\\\\n",
    "    \\hline 4 &0 & 0 & 1 & 0 & 0 & 1 & 0 & 0& -1 & -5 \\\\\n",
    "    \\hline 5 &1 & 0 & 0 & 1 & 0 & 0 & 1 & 0& -1 & -0 \\\\\n",
    "    \\hline 6 &0 & 0 & 0 & 0 & 1 & 0 & 0 & 0& -1 & -10 \\\\\n",
    "    \\hline 7 &0 & 0 & 0 & 1 & 0 & 0 & 0 & 1& -1 & -5 \\\\\n",
    "    \\hline 8 &0 & 0 & 0 & 1 & 0 & 0 & 0 & 0& 2 & -9 \\\\ \n",
    "    \\hline\\end{array}"
   ]
  },
  {
   "cell_type": "markdown",
   "metadata": {},
   "source": [
    "regel 7 - regel 8 \n",
    "\n",
    "\\begin{array}{c||c|c|c|c|c|c|c|c|c|c|} \n",
    "\\hline Regel & x2& x3& x4& x5& x6& x7& x8& x9&  A\t  \\\\\n",
    "    \\hline 1 &1 & 1 & 0 & 0 & 0 & 0 & 0 & 0& -1 & -5 \\\\\n",
    "    \\hline 2 &0 & -1 & 0 &0 & 0 & -1 & 0& 0& -3 & -9 \\\\\n",
    "    \\hline 3 &0 & 0 & 0 & 0 & 0 & 1 & 1 & 0& -1 & -5 \\\\\n",
    "    \\hline 4 &0 & 0 & 1 & 0 & 0 & 1 & 0 & 0& -1 & -5 \\\\\n",
    "    \\hline 5 &1 & 0 & 0 & 1 & 0 & 0 & 1 & 0& -1 & -0 \\\\\n",
    "    \\hline 6 &0 & 0 & 0 & 0 & 1 & 0 & 0 & 0& -1 & -10 \\\\\n",
    "    \\hline 7 &0 & 0 & 0 & 0 & 0 & 0 & 0 & 1& -3 & -14 \\\\\n",
    "    \\hline 8 &0 & 0 & 0 & 1 & 0 & 0 & 0 & 0& 2 & -9 \\\\ \n",
    "    \\hline\\end{array}"
   ]
  },
  {
   "cell_type": "raw",
   "metadata": {},
   "source": [
    "Helemaal oplosssen geeft\n",
    "\n",
    "\\begin{array}{c||c|c|c|c|c|c|c|c|c|c|} \n",
    "\\hline Regel & x2& x3& x4& x5& x6& x7& x8& x9&  A\t  \\\\\n",
    "    \\hline 1 &0 & 0 & 0 & 0 & 0 & 0 & 0 & 0& -1/2 & -3 \\\\\n",
    "    \\hline 2 &1 & 0 & 0 & 0 & 0 & 0 & 0 & 0& -1/2 & -2 \\\\\n",
    "    \\hline 3 &0 & 1 & 0 & 0 & 0 & 0 & 0 & 0& -3/4 & -11/2 \\\\\n",
    "    \\hline 4 &0 & 0 & 1 & 0 & 0 & 0 & 0 & 0& -1/4 & 3/2 \\\\\n",
    "    \\hline 5 &1 & 0 & 0 & 1 & 0 & 0 & 0 & 0& -1 & -0 \\\\\n",
    "    \\hline 6 &0 & 0 & 0 & 0 & 1 & 0 & 0 & 0& -1 & -10 \\\\\n",
    "    \\hline 7 &0 & 0 & 0 & 0 & 0 & 0 & 0 & 1& -3 & -14 \\\\\n",
    "    \\hline 8 &0 & 0 & 0 & 1 & 0 & 0 & 0 & 0& 2 & -9 \\\\ \n",
    "    \\hline\\end{array}"
   ]
  },
  {
   "cell_type": "code",
   "execution_count": null,
   "metadata": {},
   "outputs": [],
   "source": []
  }
 ],
 "metadata": {
  "kernelspec": {
   "display_name": "Python 3",
   "language": "python",
   "name": "python3"
  },
  "language_info": {
   "codemirror_mode": {
    "name": "ipython",
    "version": 3
   },
   "file_extension": ".py",
   "mimetype": "text/x-python",
   "name": "python",
   "nbconvert_exporter": "python",
   "pygments_lexer": "ipython3",
   "version": "3.7.3"
  }
 },
 "nbformat": 4,
 "nbformat_minor": 2
}
